{
 "cells": [
  {
   "cell_type": "code",
   "execution_count": 9,
   "metadata": {},
   "outputs": [],
   "source": [
    "import sys\n",
    "\n",
    "class Graph:\n",
    "    def __init__(self, vertices):\n",
    "        self.V = vertices\n",
    "        self.graph = [[0 for column in range(vertices)]\n",
    "                      for row in range(vertices)]\n",
    "\n",
    "    # A utility function to print the constructed MST stored in parent[]\n",
    "\n",
    "    def printMST(self, parent):\n",
    "        print(\"Edge \\tWeight\")\n",
    "        for i in range(1, self.V):\n",
    "            print(parent[i], \"-\", i, \"\\t\", self.graph[i][parent[i]])\n",
    "\n",
    "    # A utility function to find the vertex with minimum distance value, from\n",
    "    # the set of vertices not yet included in shortest path tree\n",
    "\n",
    "    def minKey(self, key, mstSet):\n",
    "        # Initilaize min value\n",
    "        min = sys.maxsize\n",
    "\n",
    "        for v in range(self.V):\n",
    "            if key[v] < min and mstSet[v] == False:\n",
    "                min = key[v]\n",
    "                min_index = v\n",
    "\n",
    "        return min_index\n",
    "\n",
    "    # Function to construct and print MST for a graph represented using\n",
    "    # adjacency matrix representation\n",
    "\n",
    "    def primMST(self):\n",
    "        # Key values used to pick minimum weight edge in cut\n",
    "        key = [sys.maxsize] * self.V\n",
    "        parent = [None] * self.V  # Array to store constructed MST\n",
    "        # Make key 0 so that this vertex is picked as first vertex\n",
    "        key[0] = 0\n",
    "        mstSet = [False] * self.V\n",
    "\n",
    "        parent[0] = -1  # First node is always the root of\n",
    "\n",
    "        for cout in range(self.V):\n",
    "\n",
    "            # Pick the minimum distance vertex from the set of vertices not\n",
    "            # yet processed. u is always equal to src in first iteration\n",
    "            u = self.minKey(key, mstSet)\n",
    "\n",
    "            # Put the minimum distance vertex in the shortest path tree\n",
    "            mstSet[u] = True\n",
    "\n",
    "            # Update dist value of the adjacent vertices of the picked vertex\n",
    "            # only if the current distance is greater than new distance and\n",
    "            # the vertex in not in the shotest path tree\n",
    "            for v in range(self.V):\n",
    "\n",
    "                # graph[u][v] is non zero only for adjacent vertices of m\n",
    "                # mstSet[v] is false for vertices not yet included in MST\n",
    "                # Update the key only if graph[u][v] is smaller than key[v]\n",
    "                if (self.graph[u][v] > 0 and mstSet[v] == False and\n",
    "                        key[v] > self.graph[u][v]):\n",
    "                    key[v] = self.graph[u][v]\n",
    "                    parent[v] = u\n",
    "\n",
    "        self.printMST(parent)\n",
    "\n",
    "    def dfs(self, v, visited):\n",
    "        visited[v] = True\n",
    "        print(v, end=' ')\n",
    "        for i in range(self.V):\n",
    "            if self.graph[v][i] != 0 and visited[i] == False:\n",
    "                self.dfs(i, visited)\n",
    "\n",
    "    def dfsUtil(self, v):\n",
    "        visited = [False] * self.V\n",
    "        self.dfs(v, visited)\n",
    "\n",
    "    def bfs(self, v):\n",
    "        visited = [False] * self.V\n",
    "        queue = []\n",
    "        queue.append(v)\n",
    "        visited[v] = True\n",
    "        while queue:\n",
    "            v = queue.pop(0)\n",
    "            print(v, end=' ')\n",
    "            for i in range(self.V):\n",
    "                if self.graph[v][i] != 0 and visited[i] == False:\n",
    "                    queue.append(i)\n",
    "                    visited[i] = True\n",
    "\n",
    "    def bfsUtil(self, v):\n",
    "        self.bfs(v)\n",
    "\n",
    "    def bestCostFirstSearch(self, start, goal):\n",
    "        visited = [False] * self.V\n",
    "        queue = []\n",
    "        queue.append(start)\n",
    "        visited[start] = True\n",
    "        cost=0\n",
    "\n",
    "        while queue:\n",
    "            v = queue.pop(0)\n",
    "            if v == goal:\n",
    "                return cost\n",
    "            print(v, end=' ')\n",
    "            for i in range(self.V):\n",
    "                if self.graph[v][i] != 0 and visited[i] == False:\n",
    "                    queue.append(i)\n",
    "                    visited[i] = True\n",
    "                    cost+=self.graph[v][i]\n",
    "        \n",
    "    def dfsSearch(self, start, goal):\n",
    "        visited = [False] * self.V\n",
    "        stack = []\n",
    "        stack.append(start)\n",
    "        visited[start] = True\n",
    "        cost=0\n",
    "\n",
    "        while stack:\n",
    "            v = stack.pop()\n",
    "            if v == goal:\n",
    "                return cost\n",
    "            print(v, end=' ')\n",
    "            for i in range(self.V):\n",
    "                if self.graph[v][i] != 0 and visited[i] == False:\n",
    "                    stack.append(i)\n",
    "                    visited[i] = True\n",
    "                    cost+=self.graph[v][i]\n",
    "\n",
    "    def bfsSearch(self, start, goal):\n",
    "        visited = [False] * self.V\n",
    "        queue = []\n",
    "        queue.append(start)\n",
    "        visited[start] = True\n",
    "        cost=0\n",
    "\n",
    "        while queue:\n",
    "            v = queue.pop(0)\n",
    "            if v == goal:\n",
    "                return cost\n",
    "            print(v, end=' ')\n",
    "            for i in range(self.V):\n",
    "                if self.graph[v][i] != 0 and visited[i] == False:\n",
    "                    queue.append(i)\n",
    "                    visited[i] = True\n",
    "                    cost+=self.graph[v][i]\n"
   ]
  },
  {
   "cell_type": "code",
   "execution_count": 10,
   "metadata": {},
   "outputs": [
    {
     "name": "stdout",
     "output_type": "stream",
     "text": [
      "Edge \tWeight\n",
      "0 - 1 \t 2\n",
      "1 - 2 \t 3\n",
      "0 - 3 \t 6\n",
      "1 - 4 \t 5\n"
     ]
    }
   ],
   "source": [
    "g = Graph(5)\n",
    "\n",
    "g.graph = [   [0, 2, 0, 6, 0],\n",
    "              [2, 0, 3, 8, 5],\n",
    "              [0, 3, 0, 0, 7],\n",
    "              [6, 8, 0, 0, 9],\n",
    "              [0, 5, 7, 9, 0]]\n",
    "\n",
    "g.primMST()"
   ]
  },
  {
   "cell_type": "code",
   "execution_count": 11,
   "metadata": {},
   "outputs": [
    {
     "name": "stdout",
     "output_type": "stream",
     "text": [
      "DFS\n",
      "1 0 3 4 2 "
     ]
    }
   ],
   "source": [
    "print(\"DFS\")\n",
    "g.dfsUtil(1)"
   ]
  },
  {
   "cell_type": "code",
   "execution_count": 12,
   "metadata": {},
   "outputs": [
    {
     "name": "stdout",
     "output_type": "stream",
     "text": [
      "BFS\n",
      "0 1 3 2 4 "
     ]
    }
   ],
   "source": [
    "print(\"BFS\")\n",
    "g.bfsUtil(0)"
   ]
  },
  {
   "cell_type": "code",
   "execution_count": 13,
   "metadata": {},
   "outputs": [
    {
     "name": "stdout",
     "output_type": "stream",
     "text": [
      "DFS Search\n",
      "0 3 17\n"
     ]
    }
   ],
   "source": [
    "print(\"DFS Search\")\n",
    "print(g.dfsSearch(0, 4))"
   ]
  },
  {
   "cell_type": "code",
   "execution_count": 14,
   "metadata": {},
   "outputs": [
    {
     "name": "stdout",
     "output_type": "stream",
     "text": [
      "BFS Search\n",
      "0 1 3 2 16\n"
     ]
    }
   ],
   "source": [
    "print(\"BFS Search\")\n",
    "print(g.bfsSearch(0, 4))"
   ]
  },
  {
   "cell_type": "code",
   "execution_count": 15,
   "metadata": {},
   "outputs": [
    {
     "name": "stdout",
     "output_type": "stream",
     "text": [
      "Best Cost First Search\n",
      "0 1 3 2 16\n"
     ]
    }
   ],
   "source": [
    "print(\"Best Cost First Search\")\n",
    "print(g.bestCostFirstSearch(0, 4))"
   ]
  }
 ],
 "metadata": {
  "kernelspec": {
   "display_name": "Python 3",
   "language": "python",
   "name": "python3"
  },
  "language_info": {
   "codemirror_mode": {
    "name": "ipython",
    "version": 3
   },
   "file_extension": ".py",
   "mimetype": "text/x-python",
   "name": "python",
   "nbconvert_exporter": "python",
   "pygments_lexer": "ipython3",
   "version": "3.10.4"
  }
 },
 "nbformat": 4,
 "nbformat_minor": 2
}
